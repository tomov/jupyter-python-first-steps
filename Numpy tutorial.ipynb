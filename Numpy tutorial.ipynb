{
 "cells": [
  {
   "cell_type": "code",
   "execution_count": 90,
   "metadata": {},
   "outputs": [
    {
     "name": "stdout",
     "output_type": "stream",
     "text": [
      "[['fixed acidity', 'volatile acidity', 'citric acid', 'residual sugar', 'chlorides', 'free sulfur dioxide', 'total sulfur dioxide', 'density', 'pH', 'sulphates', 'alcohol', 'quality'], ['7.4', '0.7', '0', '1.9', '0.076', '11', '34', '0.9978', '3.51', '0.56', '9.4', '5'], ['7.8', '0.88', '0', '2.6', '0.098', '25', '67', '0.9968', '3.2', '0.68', '9.8', '5']]\n",
      "1600\n"
     ]
    }
   ],
   "source": [
    "import csv\n",
    "\n",
    "with open('winequality-red.csv') as f:\n",
    "    wines = list(csv.reader(f, delimiter=';'))\n",
    "    \n",
    "print(wines[:3])\n",
    "print len(wines)"
   ]
  },
  {
   "cell_type": "code",
   "execution_count": 29,
   "metadata": {},
   "outputs": [
    {
     "name": "stdout",
     "output_type": "stream",
     "text": [
      "5.63602251407\n"
     ]
    }
   ],
   "source": [
    "q = wines[0].index(\"quality\")\n",
    "\n",
    "qualities = [float(row[q]) for row in wines[1:]]\n",
    "print sum(qualities) / len(qualities)"
   ]
  },
  {
   "cell_type": "code",
   "execution_count": 41,
   "metadata": {},
   "outputs": [
    {
     "name": "stdout",
     "output_type": "stream",
     "text": [
      "(1599, 12)\n",
      "[  7.8      0.88     0.       2.6      0.098   25.      67.       0.9968\n",
      "   3.2      0.68     9.8      5.    ]\n"
     ]
    },
    {
     "data": {
      "text/plain": [
       "array([[  7.4  ,   0.7  ,   0.   , ...,   0.56 ,   9.4  ,   5.   ],\n",
       "       [  7.8  ,   0.88 ,   0.   , ...,   0.68 ,   9.8  ,   5.   ],\n",
       "       [  7.8  ,   0.76 ,   0.04 , ...,   0.65 ,   9.8  ,   5.   ],\n",
       "       ..., \n",
       "       [  6.3  ,   0.51 ,   0.13 , ...,   0.75 ,  11.   ,   6.   ],\n",
       "       [  5.9  ,   0.645,   0.12 , ...,   0.71 ,  10.2  ,   5.   ],\n",
       "       [  6.   ,   0.31 ,   0.47 , ...,   0.66 ,  11.   ,   6.   ]])"
      ]
     },
     "execution_count": 41,
     "metadata": {},
     "output_type": "execute_result"
    }
   ],
   "source": [
    "import numpy as np\n",
    "\n",
    "w = np.array(wines[1:], dtype=np.float)\n",
    "print w.shape\n",
    "print w[1]\n",
    "w"
   ]
  },
  {
   "cell_type": "code",
   "execution_count": 55,
   "metadata": {},
   "outputs": [
    {
     "data": {
      "text/plain": [
       "array([[[ 0.,  0.],\n",
       "        [ 0.,  0.],\n",
       "        [ 0.,  0.],\n",
       "        [ 0.,  0.]],\n",
       "\n",
       "       [[ 0.,  0.],\n",
       "        [ 0.,  0.],\n",
       "        [ 0.,  0.],\n",
       "        [ 0.,  0.]],\n",
       "\n",
       "       [[ 0.,  0.],\n",
       "        [ 0.,  0.],\n",
       "        [ 0.,  0.],\n",
       "        [ 0.,  0.]]])"
      ]
     },
     "execution_count": 55,
     "metadata": {},
     "output_type": "execute_result"
    }
   ],
   "source": [
    "e = np.zeros((3, 4, 2))\n",
    "e"
   ]
  },
  {
   "cell_type": "code",
   "execution_count": 61,
   "metadata": {},
   "outputs": [
    {
     "data": {
      "text/plain": [
       "array([[[ 0.19740365,  0.14583291],\n",
       "        [ 0.20716933,  0.05765918],\n",
       "        [ 0.09131899,  0.38735245],\n",
       "        [ 0.28595527,  0.86321   ]],\n",
       "\n",
       "       [[ 0.01228166,  0.88498685],\n",
       "        [ 0.16735236,  0.28897098],\n",
       "        [ 0.33284498,  0.31601923],\n",
       "        [ 0.13793591,  0.93040981]],\n",
       "\n",
       "       [[ 0.50800754,  0.07987141],\n",
       "        [ 0.19841556,  0.2329591 ],\n",
       "        [ 0.07144676,  0.41172807],\n",
       "        [ 0.47489495,  0.030805  ]]])"
      ]
     },
     "execution_count": 61,
     "metadata": {},
     "output_type": "execute_result"
    }
   ],
   "source": [
    "np.random.rand(3, 4, 2)"
   ]
  },
  {
   "cell_type": "code",
   "execution_count": 133,
   "metadata": {},
   "outputs": [
    {
     "data": {
      "text/plain": [
       "array([[  7.4  ,   0.7  ,   0.   , ...,   0.56 ,   9.4  ,   5.   ],\n",
       "       [  7.8  ,   0.88 ,   0.   , ...,   0.68 ,   9.8  ,   5.   ],\n",
       "       [  7.8  ,   0.76 ,   0.04 , ...,   0.65 ,   9.8  ,   5.   ],\n",
       "       ..., \n",
       "       [  6.3  ,   0.51 ,   0.13 , ...,   0.75 ,  11.   ,   6.   ],\n",
       "       [  5.9  ,   0.645,   0.12 , ...,   0.71 ,  10.2  ,   5.   ],\n",
       "       [  6.   ,   0.31 ,   0.47 , ...,   0.66 ,  11.   ,   6.   ]])"
      ]
     },
     "execution_count": 133,
     "metadata": {},
     "output_type": "execute_result"
    }
   ],
   "source": [
    "wines = np.genfromtxt('winequality-red.csv', delimiter=';', skip_header=1)\n",
    "wines"
   ]
  },
  {
   "cell_type": "code",
   "execution_count": 65,
   "metadata": {},
   "outputs": [
    {
     "data": {
      "text/plain": [
       "2.2999999999999998"
      ]
     },
     "execution_count": 65,
     "metadata": {},
     "output_type": "execute_result"
    }
   ],
   "source": [
    "wines[2,3]"
   ]
  },
  {
   "cell_type": "code",
   "execution_count": 66,
   "metadata": {},
   "outputs": [
    {
     "data": {
      "text/plain": [
       "2.2999999999999998"
      ]
     },
     "execution_count": 66,
     "metadata": {},
     "output_type": "execute_result"
    }
   ],
   "source": [
    "wines[2][3]"
   ]
  },
  {
   "cell_type": "code",
   "execution_count": 68,
   "metadata": {},
   "outputs": [
    {
     "data": {
      "text/plain": [
       "array([ 1.9,  2.6,  2.3])"
      ]
     },
     "execution_count": 68,
     "metadata": {},
     "output_type": "execute_result"
    }
   ],
   "source": [
    "wines[0:3,3] # slicing is by reference; MATLAB copies stuff over"
   ]
  },
  {
   "cell_type": "code",
   "execution_count": 69,
   "metadata": {
    "collapsed": true
   },
   "outputs": [],
   "source": [
    "wines[:,10] = 50\n",
    "wines[:,10]"
   ]
  },
  {
   "cell_type": "code",
   "execution_count": 70,
   "metadata": {},
   "outputs": [
    {
     "data": {
      "text/plain": [
       "array([ 50.,  50.,  50., ...,  50.,  50.,  50.])"
      ]
     },
     "execution_count": 70,
     "metadata": {},
     "output_type": "execute_result"
    }
   ],
   "source": []
  },
  {
   "cell_type": "code",
   "execution_count": 71,
   "metadata": {},
   "outputs": [
    {
     "data": {
      "text/plain": [
       "0.88"
      ]
     },
     "execution_count": 71,
     "metadata": {},
     "output_type": "execute_result"
    }
   ],
   "source": [
    "wines[(1,1)]"
   ]
  },
  {
   "cell_type": "code",
   "execution_count": 73,
   "metadata": {},
   "outputs": [
    {
     "data": {
      "text/plain": [
       "dtype('float64')"
      ]
     },
     "execution_count": 73,
     "metadata": {},
     "output_type": "execute_result"
    }
   ],
   "source": [
    "wines.dtype"
   ]
  },
  {
   "cell_type": "code",
   "execution_count": 82,
   "metadata": {},
   "outputs": [
    {
     "name": "stdout",
     "output_type": "stream",
     "text": [
      "string256\n"
     ]
    },
    {
     "data": {
      "text/plain": [
       "array([[ 7,  0,  0, ...,  0, 50,  5],\n",
       "       [ 7,  0,  0, ...,  0, 50,  5],\n",
       "       [ 7,  0,  0, ...,  0, 50,  5],\n",
       "       ..., \n",
       "       [ 6,  0,  0, ...,  0, 50,  6],\n",
       "       [ 5,  0,  0, ...,  0, 50,  5],\n",
       "       [ 6,  0,  0, ...,  0, 50,  6]])"
      ]
     },
     "execution_count": 82,
     "metadata": {},
     "output_type": "execute_result"
    }
   ],
   "source": [
    "print wines.astype('string').dtype.name\n",
    "wines.astype('int')"
   ]
  },
  {
   "cell_type": "code",
   "execution_count": 80,
   "metadata": {},
   "outputs": [
    {
     "data": {
      "text/plain": [
       "array([[ 7,  0,  0, ...,  0, 50,  5],\n",
       "       [ 7,  0,  0, ...,  0, 50,  5],\n",
       "       [ 7,  0,  0, ...,  0, 50,  5],\n",
       "       ..., \n",
       "       [ 6,  0,  0, ...,  0, 50,  6],\n",
       "       [ 5,  0,  0, ...,  0, 50,  5],\n",
       "       [ 6,  0,  0, ...,  0, 50,  6]], dtype=int32)"
      ]
     },
     "execution_count": 80,
     "metadata": {},
     "output_type": "execute_result"
    }
   ],
   "source": [
    "wines.astype(np.int32)"
   ]
  },
  {
   "cell_type": "code",
   "execution_count": 87,
   "metadata": {},
   "outputs": [
    {
     "data": {
      "text/plain": [
       "array([ 25.,  25.,  25., ...,  26.,  25.,  26.])"
      ]
     },
     "execution_count": 87,
     "metadata": {},
     "output_type": "execute_result"
    }
   ],
   "source": [
    "wines[:,q] += 10\n",
    "wines[:,q]"
   ]
  },
  {
   "cell_type": "code",
   "execution_count": 98,
   "metadata": {},
   "outputs": [
    {
     "data": {
      "text/plain": [
       "array([ 48.,  50.,  50., ...,  67.,  52.,  67.])"
      ]
     },
     "execution_count": 98,
     "metadata": {},
     "output_type": "execute_result"
    }
   ],
   "source": [
    "x = wines[:,10] * wines[:,11] + 1\n",
    "x"
   ]
  },
  {
   "cell_type": "code",
   "execution_count": 107,
   "metadata": {},
   "outputs": [
    {
     "name": "stdout",
     "output_type": "stream",
     "text": [
      "[[1 2 3]\n",
      " [4 5 6]]\n",
      "(2, 3)\n",
      "(3,)\n",
      "[[  10  200 3000]\n",
      " [  40  500 6000]]\n",
      "(1, 3)\n",
      "[[  10  200 3000]\n",
      " [  40  500 6000]]\n"
     ]
    }
   ],
   "source": [
    "# broadcasting\n",
    "\n",
    "x = np.array([[1, 2, 3], [4, 5, 6]])\n",
    "print x\n",
    "print x.shape\n",
    "y = np.array([10, 100, 1000])\n",
    "print y.shape\n",
    "print x * y\n",
    "y = np.array([[10, 100, 1000]])\n",
    "print y.shape\n",
    "print x * y"
   ]
  },
  {
   "cell_type": "code",
   "execution_count": 115,
   "metadata": {},
   "outputs": [
    {
     "name": "stdout",
     "output_type": "stream",
     "text": [
      "21\n",
      "(2, 3)\n",
      "[5 7 9]\n",
      "[5 7 9]\n",
      "[ 6 15]\n"
     ]
    }
   ],
   "source": [
    "print x.sum()\n",
    "print x.shape\n",
    "print x.sum(0)\n",
    "print x.sum(axis=0)\n",
    "print x.sum(1)"
   ]
  },
  {
   "cell_type": "code",
   "execution_count": 134,
   "metadata": {},
   "outputs": [
    {
     "name": "stdout",
     "output_type": "stream",
     "text": [
      "[ True  True  True ...,  True  True  True]\n",
      "[False False False ..., False False False]\n",
      "[[  7.90000000e+00   3.50000000e-01   4.60000000e-01   3.60000000e+00\n",
      "    7.80000000e-02   1.50000000e+01   3.70000000e+01   9.97300000e-01\n",
      "    3.35000000e+00   8.60000000e-01   1.28000000e+01   8.00000000e+00]\n",
      " [  1.03000000e+01   3.20000000e-01   4.50000000e-01   6.40000000e+00\n",
      "    7.30000000e-02   5.00000000e+00   1.30000000e+01   9.97600000e-01\n",
      "    3.23000000e+00   8.20000000e-01   1.26000000e+01   8.00000000e+00]\n",
      " [  5.60000000e+00   8.50000000e-01   5.00000000e-02   1.40000000e+00\n",
      "    4.50000000e-02   1.20000000e+01   8.80000000e+01   9.92400000e-01\n",
      "    3.56000000e+00   8.20000000e-01   1.29000000e+01   8.00000000e+00]]\n",
      "[[ 12.8   8. ]\n",
      " [ 12.6   8. ]\n",
      " [ 12.9   8. ]\n",
      " [ 13.4   8. ]\n",
      " [ 11.7   8. ]\n",
      " [ 11.    8. ]\n",
      " [ 11.    8. ]\n",
      " [ 14.    8. ]\n",
      " [ 12.7   8. ]\n",
      " [ 12.5   8. ]\n",
      " [ 11.8   8. ]\n",
      " [ 13.1   8. ]\n",
      " [ 11.7   8. ]\n",
      " [ 14.    8. ]\n",
      " [ 11.3   8. ]\n",
      " [ 11.4   8. ]]\n"
     ]
    }
   ],
   "source": [
    "print wines[:,5] > 5\n",
    "print wines[:,5] == 10\n",
    "which = wines[:,5] == 10\n",
    "#print wines[which, :]\n",
    "\n",
    "# subsetting\n",
    "high_quality = wines[:,11] > 7\n",
    "print wines[high_quality,:][:3,:]\n",
    "\n",
    "high_quality_and_alcohol = (wines[:,10] > 10) & (wines[:,11] > 7)\n",
    "print wines[high_quality_and_alcohol,10:]\n",
    "\n",
    "# wines[high_quality_and_alcohol,10:] = 20\n"
   ]
  },
  {
   "cell_type": "code",
   "execution_count": 141,
   "metadata": {},
   "outputs": [
    {
     "name": "stdout",
     "output_type": "stream",
     "text": [
      "(1599, 12)\n",
      "(12, 1599)\n",
      "(19188,)\n",
      "[[  7.8      0.88     0.       2.6      0.098   25.    ]\n",
      " [ 67.       0.9968   3.2      0.68     9.8      5.    ]]\n"
     ]
    }
   ],
   "source": [
    "# reshaping\n",
    "\n",
    "print wines.shape\n",
    "print np.transpose(wines).shape\n",
    "print np.ravel(wines).shape\n",
    "print wines[1,:].reshape(2, 6)"
   ]
  },
  {
   "cell_type": "code",
   "execution_count": 148,
   "metadata": {},
   "outputs": [
    {
     "name": "stdout",
     "output_type": "stream",
     "text": [
      "(6497, 12)\n",
      "(6497, 12)\n"
     ]
    }
   ],
   "source": [
    "# combining arrays\n",
    "\n",
    "white_wines = np.genfromtxt(\"winequality-white.csv\", delimiter=\";\", skip_header=1)\n",
    "white_wines.shape\n",
    "\n",
    "all_wines = np.vstack((white_wines, wines))\n",
    "print all_wines.shape\n",
    "\n",
    "all_wines = np.concatenate((wines, white_wines), axis=0)\n",
    "print all_wines.shape"
   ]
  },
  {
   "cell_type": "code",
   "execution_count": 157,
   "metadata": {},
   "outputs": [
    {
     "name": "stdout",
     "output_type": "stream",
     "text": [
      "[[ 0.  0.  0.  0.]\n",
      " [ 0.  0.  0.  0.]\n",
      " [ 0.  0.  0.  0.]\n",
      " [ 1.  1.  1.  1.]\n",
      " [ 1.  1.  1.  1.]\n",
      " [ 1.  1.  1.  1.]\n",
      " [ 1.  1.  1.  1.]\n",
      " [ 1.  1.  1.  1.]\n",
      " [ 1.  1.  1.  1.]]\n",
      "[ 0.  0.  0.  1.  1.  1.  1.  1.  1.]\n"
     ]
    }
   ],
   "source": [
    "# challenge\n",
    "\n",
    "z = np.zeros((3,4))\n",
    "o = np.ones((6,4))\n",
    "c = np.vstack((z, o))\n",
    "print c\n",
    "first_column = c[:,0]\n",
    "print first_column"
   ]
  },
  {
   "cell_type": "code",
   "execution_count": 171,
   "metadata": {},
   "outputs": [
    {
     "name": "stdout",
     "output_type": "stream",
     "text": [
      "[ 1  3  5  7  9 11 13 15 17 19 21 23 25 27 29]\n",
      "[[ 1  3  5  7  9]\n",
      " [11 13 15 17 19]\n",
      " [21 23 25 27 29]]\n",
      "(3, 5)\n",
      "2\n",
      "15\n",
      "int64\n",
      "8\n",
      "<type 'numpy.ndarray'>\n"
     ]
    }
   ],
   "source": [
    "a = np.arange(1, 30, 2)\n",
    "print a\n",
    "\n",
    "a = a.reshape(3, 5)\n",
    "print a\n",
    "\n",
    "print a.shape\n",
    "print a.ndim\n",
    "print a.size\n",
    "print a.dtype.name\n",
    "print a.itemsize\n",
    "print type(a)"
   ]
  },
  {
   "cell_type": "code",
   "execution_count": 176,
   "metadata": {},
   "outputs": [
    {
     "name": "stdout",
     "output_type": "stream",
     "text": [
      "[ 0.   0.3  0.6  0.9  1.2  1.5  1.8  2.1  2.4  2.7  3.   3.3  3.6  3.9  4.2\n",
      "  4.5  4.8  5.1  5.4  5.7  6.   6.3  6.6  6.9  7.2  7.5  7.8  8.1  8.4  8.7\n",
      "  9.   9.3  9.6  9.9]\n",
      "6.28318530718\n",
      "0.0\n",
      "[  0.00000000e+00   6.34239197e-02   1.26592454e-01   1.89251244e-01\n",
      "   2.51147987e-01   3.12033446e-01   3.71662456e-01   4.29794912e-01\n",
      "   4.86196736e-01   5.40640817e-01   5.92907929e-01   6.42787610e-01\n",
      "   6.90079011e-01   7.34591709e-01   7.76146464e-01   8.14575952e-01\n",
      "   8.49725430e-01   8.81453363e-01   9.09631995e-01   9.34147860e-01\n",
      "   9.54902241e-01   9.71811568e-01   9.84807753e-01   9.93838464e-01\n",
      "   9.98867339e-01   9.99874128e-01   9.96854776e-01   9.89821442e-01\n",
      "   9.78802446e-01   9.63842159e-01   9.45000819e-01   9.22354294e-01\n",
      "   8.95993774e-01   8.66025404e-01   8.32569855e-01   7.95761841e-01\n",
      "   7.55749574e-01   7.12694171e-01   6.66769001e-01   6.18158986e-01\n",
      "   5.67059864e-01   5.13677392e-01   4.58226522e-01   4.00930535e-01\n",
      "   3.42020143e-01   2.81732557e-01   2.20310533e-01   1.58001396e-01\n",
      "   9.50560433e-02   3.17279335e-02  -3.17279335e-02  -9.50560433e-02\n",
      "  -1.58001396e-01  -2.20310533e-01  -2.81732557e-01  -3.42020143e-01\n",
      "  -4.00930535e-01  -4.58226522e-01  -5.13677392e-01  -5.67059864e-01\n",
      "  -6.18158986e-01  -6.66769001e-01  -7.12694171e-01  -7.55749574e-01\n",
      "  -7.95761841e-01  -8.32569855e-01  -8.66025404e-01  -8.95993774e-01\n",
      "  -9.22354294e-01  -9.45000819e-01  -9.63842159e-01  -9.78802446e-01\n",
      "  -9.89821442e-01  -9.96854776e-01  -9.99874128e-01  -9.98867339e-01\n",
      "  -9.93838464e-01  -9.84807753e-01  -9.71811568e-01  -9.54902241e-01\n",
      "  -9.34147860e-01  -9.09631995e-01  -8.81453363e-01  -8.49725430e-01\n",
      "  -8.14575952e-01  -7.76146464e-01  -7.34591709e-01  -6.90079011e-01\n",
      "  -6.42787610e-01  -5.92907929e-01  -5.40640817e-01  -4.86196736e-01\n",
      "  -4.29794912e-01  -3.71662456e-01  -3.12033446e-01  -2.51147987e-01\n",
      "  -1.89251244e-01  -1.26592454e-01  -6.34239197e-02  -2.44929360e-16]\n"
     ]
    }
   ],
   "source": [
    "print np.arange(0, 10, 0.3)\n",
    "x = np.linspace(0, 2 * np.pi, 100)\n",
    "print np.max(x)\n",
    "print np.min(x)\n",
    "print np.sin(x)"
   ]
  },
  {
   "cell_type": "code",
   "execution_count": 183,
   "metadata": {},
   "outputs": [
    {
     "name": "stdout",
     "output_type": "stream",
     "text": [
      "[ 1  9 25 49 81]\n",
      "[ 2 12 30 56 90]\n",
      "190\n",
      "2\n",
      "90\n",
      "38.0\n",
      "1012.8\n",
      "31.8245188495\n",
      "[  2  14  44 100 190]\n"
     ]
    }
   ],
   "source": [
    "x = np.arange(1, 10, 2)\n",
    "print x ** 2\n",
    "x += x ** 2\n",
    "print x\n",
    "\n",
    "print x.sum()\n",
    "print x.min()\n",
    "print x.max()\n",
    "print x.mean()\n",
    "print x.var()\n",
    "print x.std()\n",
    "print x.cumsum()"
   ]
  },
  {
   "cell_type": "code",
   "execution_count": 187,
   "metadata": {},
   "outputs": [
    {
     "name": "stdout",
     "output_type": "stream",
     "text": [
      "[ 14  34  70 122 190]\n",
      "[  7.38905610e+00   1.62754791e+05   1.06864746e+13   2.09165950e+24\n",
      "   1.22040329e+39]\n",
      "[ 1.41421356  3.46410162  5.47722558  7.48331477  9.48683298]\n"
     ]
    }
   ],
   "source": [
    "y = x + 10\n",
    "print x + y\n",
    "print np.exp(x)\n",
    "print np.sqrt(x)"
   ]
  },
  {
   "cell_type": "code",
   "execution_count": 197,
   "metadata": {},
   "outputs": [
    {
     "name": "stdout",
     "output_type": "stream",
     "text": [
      "[[   0    1    2    3]\n",
      " [1000 1001 1002 1003]\n",
      " [2000 2001 2002 2003]\n",
      " [3000 3001 3002 3003]\n",
      " [4000 4001 4002 4003]]\n",
      "[   0    1    2    3 1000 1001 1002 1003 2000 2001 2002 2003 3000 3001 3002\n",
      " 3003 4000 4001 4002 4003]\n",
      "0\n",
      "1\n",
      "2\n",
      "3\n",
      "1000\n",
      "1001\n",
      "1002\n",
      "1003\n",
      "2000\n",
      "2001\n",
      "2002\n",
      "2003\n",
      "3000\n",
      "3001\n",
      "3002\n",
      "3003\n",
      "4000\n",
      "4001\n",
      "4002\n",
      "4003\n",
      "[[   0 1000 2000 3000 4000]\n",
      " [   1 1001 2001 3001 4001]\n",
      " [   2 1002 2002 3002 4002]\n",
      " [   3 1003 2003 3003 4003]]\n"
     ]
    }
   ],
   "source": [
    "# from f'n\n",
    "def f(r, c):\n",
    "    return r * 1000 + c\n",
    "x = np.fromfunction(f, (5, 4), dtype=int)\n",
    "\n",
    "# flatten\n",
    "print x\n",
    "print x.flatten()\n",
    "for i in x.flat:\n",
    "    print i    \n",
    "\n",
    "# transpose\n",
    "print x.T"
   ]
  },
  {
   "cell_type": "code",
   "execution_count": 202,
   "metadata": {},
   "outputs": [
    {
     "name": "stdout",
     "output_type": "stream",
     "text": [
      "[[   0    1    2    3 1000]\n",
      " [1001 1002 1003 2000 2001]\n",
      " [2002 2003 3000 3001 3002]\n",
      " [3003 4000 4001 4002 4003]]\n",
      "[[   0    1    2    3 1000]\n",
      " [1001 1002 1003 2000 2001]\n",
      " [2002 2003 3000 3001 3002]\n",
      " [3003 4000 4001 4002 4003]]\n",
      "[[   0    1    2    3 1000    0    1    2    3 1000]\n",
      " [1001 1002 1003 2000 2001 1001 1002 1003 2000 2001]\n",
      " [2002 2003 3000 3001 3002 2002 2003 3000 3001 3002]\n",
      " [3003 4000 4001 4002 4003 3003 4000 4001 4002 4003]]\n",
      "[[   0    1    2    3 1000]\n",
      " [1001 1002 1003 2000 2001]\n",
      " [2002 2003 3000 3001 3002]\n",
      " [3003 4000 4001 4002 4003]\n",
      " [   0    1    2    3 1000]\n",
      " [1001 1002 1003 2000 2001]\n",
      " [2002 2003 3000 3001 3002]\n",
      " [3003 4000 4001 4002 4003]]\n"
     ]
    }
   ],
   "source": [
    "# reshape (copy) vs resize (in place)\n",
    "y = np.reshape(x, (4, 5))\n",
    "print y\n",
    "x.resize((4, 5))\n",
    "print x\n",
    "\n",
    "# stacking\n",
    "print np.hstack((x, x))\n",
    "print np.vstack((x, x))"
   ]
  },
  {
   "cell_type": "code",
   "execution_count": 225,
   "metadata": {},
   "outputs": [
    {
     "name": "stdout",
     "output_type": "stream",
     "text": [
      "True\n",
      "False\n",
      "False\n",
      "False\n",
      "[[10000     1     2     3     4]\n",
      " [    5     6     7     8     9]\n",
      " [   10    11    12    13    14]\n",
      " [   15    16    17    18    19]]\n",
      "[[10000  -999  -999     3     4]\n",
      " [    5     6     7     8     9]\n",
      " [   10    11    12    13    14]\n",
      " [   15    16    17    18    19]]\n",
      "[[10000  -999  -999     3     4]\n",
      " [    5     6     7     8     9]\n",
      " [   10    11    12    13    14]\n",
      " [   15    16    17    18    19]]\n"
     ]
    }
   ],
   "source": [
    "# views and copies -- pass by reference\n",
    "a = np.arange(0, 20, 1).reshape(4, 5)\n",
    "b = a\n",
    "print b is a # ref\n",
    "\n",
    "# views\n",
    "c = a.view()\n",
    "print c is a\n",
    "print c.base is a\n",
    "print c.flags.owndata\n",
    "c.shape = 10, 2\n",
    "\n",
    "c[0, 0] = 10000\n",
    "print a # modifying c changes a\n",
    "\n",
    "s = a[:, 1:3] # slicing returns a view\n",
    "s[0,:] = -999\n",
    "print a\n",
    "\n",
    "# deepcopy\n",
    "d = a.copy()\n",
    "d[0, 0] = 1000\n",
    "print a"
   ]
  },
  {
   "cell_type": "code",
   "execution_count": 250,
   "metadata": {},
   "outputs": [
    {
     "name": "stdout",
     "output_type": "stream",
     "text": [
      "[  0   1   4   9  16  25  36  49  64  81 100 121]\n",
      "[  0   9  16 100]\n",
      "[[ 1  1]\n",
      " [ 9 16]]\n",
      "[  9  36 121]\n",
      "[  9  36 121]\n",
      "[[  0   1   4  -1]\n",
      " [ 16  25  -1  49]\n",
      " [ 64  81 100  -1]]\n"
     ]
    }
   ],
   "source": [
    "# indexing\n",
    "a = np.arange(12) ** 2\n",
    "print a\n",
    "\n",
    "i = np.array([0, 3, 4, 10])\n",
    "print a[i]\n",
    "\n",
    "j = np.array([[1, 1], [3, 4]])\n",
    "print a[j]\n",
    "\n",
    "# check it out -- 2D indexing!\n",
    "a.resize(3, 4)\n",
    "i = np.array([0, 1, 2])\n",
    "j = np.array([3, 2, 3])\n",
    "print a[i, j]\n",
    "l = [i, j] # indices in a list\n",
    "print a[l]\n",
    "\n",
    "# assign indices\n",
    "a[l] = -1\n",
    "print a"
   ]
  },
  {
   "cell_type": "code",
   "execution_count": 247,
   "metadata": {},
   "outputs": [
    {
     "name": "stdout",
     "output_type": "stream",
     "text": [
      "[[  0.00000000e+00   6.42787610e-01]\n",
      " [  9.84807753e-01   8.66025404e-01]\n",
      " [  3.42020143e-01  -3.42020143e-01]\n",
      " [ -8.66025404e-01  -9.84807753e-01]\n",
      " [ -6.42787610e-01  -2.44929360e-16]]\n",
      "[ 0.98480775  0.8660254 ]\n",
      "[  6.42787610e-01   9.84807753e-01   3.42020143e-01  -8.66025404e-01\n",
      "  -2.44929360e-16]\n"
     ]
    }
   ],
   "source": [
    "\n",
    "# argmax\n",
    "\n",
    "x = np.linspace(0, np.pi * 2, 10)\n",
    "y = np.sin(x).reshape(5, 2)\n",
    "print y\n",
    "i = y.argmax(axis = 0)\n",
    "print y[i, xrange(y.shape[1])]\n",
    "j = y.argmax(axis = 1)\n",
    "print y[xrange(y.shape[0]),j]"
   ]
  },
  {
   "cell_type": "code",
   "execution_count": 261,
   "metadata": {},
   "outputs": [
    {
     "name": "stdout",
     "output_type": "stream",
     "text": [
      "[ 0  3  5  6  7 11]\n",
      "[[ 0  1  2  3]\n",
      " [ 8  9 10 11]]\n",
      "[[ 0  1  3]\n",
      " [ 4  5  7]\n",
      " [ 8  9 11]]\n"
     ]
    }
   ],
   "source": [
    "# boolean indices\n",
    "\n",
    "x = np.arange(0, 12).reshape(3, 4)\n",
    "b = np.array([[1, 0, 0, 1], [0, 1, 1, 1], [0, 0, 0, 1]], dtype=bool)\n",
    "\n",
    "print x[b]\n",
    "\n",
    "# by rows and columns\n",
    "r = np.array([1, 0, 1], dtype=bool)\n",
    "c = np.array([1, 1, 0, 1], dtype=bool)\n",
    "print x[r, :]\n",
    "print x[:, c]"
   ]
  },
  {
   "cell_type": "code",
   "execution_count": 270,
   "metadata": {},
   "outputs": [
    {
     "name": "stdout",
     "output_type": "stream",
     "text": [
      "[[ 1.  2.]\n",
      " [ 3.  4.]]\n",
      "[[ 1.  3.]\n",
      " [ 2.  4.]]\n",
      "[[-2.   1. ]\n",
      " [ 1.5 -0.5]]\n",
      "[[  9.  12.  15.]\n",
      " [ 19.  26.  33.]]\n",
      "[ 2.   0.5]\n",
      "(array([-0.37228132,  5.37228132]), array([[-0.82456484, -0.41597356],\n",
      "       [ 0.56576746, -0.90937671]]))\n"
     ]
    }
   ],
   "source": [
    "# linear algebra\n",
    "a = np.array([[1.0, 2.0], [3.0, 4.0]])\n",
    "\n",
    "print a\n",
    "print a.transpose()\n",
    "\n",
    "print np.linalg.inv(a)\n",
    "\n",
    "b = np.arange(1, 7).reshape(2, 3)\n",
    "print np.dot(a, b)\n",
    "\n",
    "y = np.array([3, 8])\n",
    "print np.linalg.solve(a, y)\n",
    "\n",
    "print np.linalg.eig(a)"
   ]
  },
  {
   "cell_type": "code",
   "execution_count": null,
   "metadata": {},
   "outputs": [],
   "source": []
  },
  {
   "cell_type": "code",
   "execution_count": null,
   "metadata": {
    "collapsed": true
   },
   "outputs": [],
   "source": []
  }
 ],
 "metadata": {
  "kernelspec": {
   "display_name": "Python 2",
   "language": "python",
   "name": "python2"
  },
  "language_info": {
   "codemirror_mode": {
    "name": "ipython",
    "version": 2
   },
   "file_extension": ".py",
   "mimetype": "text/x-python",
   "name": "python",
   "nbconvert_exporter": "python",
   "pygments_lexer": "ipython2",
   "version": "2.7.14"
  }
 },
 "nbformat": 4,
 "nbformat_minor": 2
}
